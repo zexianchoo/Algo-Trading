{
 "cells": [
  {
   "cell_type": "code",
   "execution_count": 1,
   "metadata": {},
   "outputs": [],
   "source": [
    "import pandas as pd\n",
    "import matplotlib.pyplot as plt"
   ]
  },
  {
   "cell_type": "code",
   "execution_count": null,
   "metadata": {},
   "outputs": [],
   "source": [
    "# Read the CSV file with column names\n",
    "df = pd.read_csv('PNL.csv')\n",
    "\n",
    "# Modify the x label\n",
    "df['Time'] = df['Time'].str.split('.').str[0]\n",
    "\n",
    "# Plot the last column as pnl\n",
    "ax = df.plot(x='Time', y='Cumulative PnL', title='PnL 2019-Jan-30', rot=45)\n",
    "ax.tick_params(axis='x', labelsize=6)\n",
    "\n",
    "risk_free_rate = 0.01  # assumed\n",
    "\n",
    "daily_returns = df['Cumulative PnL'].pct_change()\n",
    "\n",
    "sharpe_ratio = (daily_returns.mean() - risk_free_rate) / daily_returns.std()\n",
    "\n",
    "print(sharpe_ratio)\n",
    "\n",
    "plt.show()"
   ]
  }
 ],
 "metadata": {
  "kernelspec": {
   "display_name": "Python 3",
   "language": "python",
   "name": "python3"
  },
  "language_info": {
   "codemirror_mode": {
    "name": "ipython",
    "version": 3
   },
   "file_extension": ".py",
   "mimetype": "text/x-python",
   "name": "python",
   "nbconvert_exporter": "python",
   "pygments_lexer": "ipython3",
   "version": "3.11.9"
  }
 },
 "nbformat": 4,
 "nbformat_minor": 2
}
